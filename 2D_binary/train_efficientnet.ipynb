{
 "cells": [
  {
   "cell_type": "markdown",
   "metadata": {},
   "source": [
    "# Training and Basic Evaluation for a 2D Binary Classifier"
   ]
  },
  {
   "cell_type": "markdown",
   "metadata": {},
   "source": [
    "If using MedMNIST for the first time, you will need to install medmnist."
   ]
  },
  {
   "cell_type": "code",
   "execution_count": 1,
   "metadata": {},
   "outputs": [],
   "source": [
    "#!pip install medmnist"
   ]
  },
  {
   "cell_type": "code",
   "execution_count": 1,
   "metadata": {},
   "outputs": [],
   "source": [
    "import numpy as np\n",
    "import matplotlib.pyplot as plt\n",
    "import random\n",
    "\n",
    "import keras\n",
    "from keras.preprocessing.image import ImageDataGenerator\n",
    "from sklearn.metrics import classification_report,confusion_matrix\n",
    "from keras.callbacks import ReduceLROnPlateau\n",
    "from keras import layers, optimizers, losses, metrics\n",
    "\n",
    "import tensorflow as tf\n",
    "\n",
    "import medmnist\n",
    "from medmnist import INFO\n",
    "\n",
    "import sys\n",
    "sys.path.insert(0,\"../\")\n",
    "\n",
    "import dataset_without_pytorch\n",
    "\n",
    "from functions import split_data, get_label_counts, build_basic_model, argmax_array, generate_training_mixup_images\n",
    "from plotting_functions import plot_history"
   ]
  },
  {
   "cell_type": "code",
   "execution_count": 2,
   "metadata": {},
   "outputs": [
    {
     "name": "stdout",
     "output_type": "stream",
     "text": [
      "MedMNIST v3.0.1 @ https://github.com/MedMNIST/MedMNIST/\n"
     ]
    }
   ],
   "source": [
    "print(f\"MedMNIST v{medmnist.__version__} @ {medmnist.HOMEPAGE}\")"
   ]
  },
  {
   "cell_type": "markdown",
   "metadata": {},
   "source": [
    "We set some of our parameters here. The data flag is 'pneumoniamnist' - a binary pneumonia dataset. "
   ]
  },
  {
   "cell_type": "code",
   "execution_count": 3,
   "metadata": {},
   "outputs": [],
   "source": [
    "data_flag = 'pneumoniamnist'\n",
    "\n",
    "download = True\n",
    "\n",
    "image_size = 128\n",
    "\n",
    "info = INFO[data_flag]\n",
    "\n",
    "DataClass = getattr(dataset_without_pytorch, info['python_class'])"
   ]
  },
  {
   "cell_type": "code",
   "execution_count": 4,
   "metadata": {},
   "outputs": [
    {
     "name": "stdout",
     "output_type": "stream",
     "text": [
      "Using downloaded and verified file: C:\\Users\\Will Poulett\\.medmnist\\pneumoniamnist_128.npz\n",
      "Using downloaded and verified file: C:\\Users\\Will Poulett\\.medmnist\\pneumoniamnist_128.npz\n",
      "Using downloaded and verified file: C:\\Users\\Will Poulett\\.medmnist\\pneumoniamnist_128.npz\n"
     ]
    }
   ],
   "source": [
    "# load the data\n",
    "train_dataset = DataClass(split='train', download=download, size = image_size)\n",
    "test_dataset = DataClass(split='test', download=download, size = image_size)\n",
    "val_dataset = DataClass(split='val', download=download, size = image_size)"
   ]
  },
  {
   "cell_type": "code",
   "execution_count": 6,
   "metadata": {},
   "outputs": [
    {
     "name": "stdout",
     "output_type": "stream",
     "text": [
      "Dataset PneumoniaMNIST (pneumoniamnist)\n",
      "    Number of datapoints: 4708\n",
      "    Root location: C:\\Users\\Will Poulett\\.medmnist\n",
      "    Split: train\n",
      "    Task: binary-class\n",
      "    Number of channels: 1\n",
      "    Meaning of labels: {'0': 'normal', '1': 'pneumonia'}\n",
      "    Number of samples: {'train': 4708, 'val': 524, 'test': 624}\n",
      "    Description: The PneumoniaMNIST is based on a prior dataset of 5,856 pediatric chest X-Ray images. The task is binary-class classification of pneumonia against normal. We split the source training set with a ratio of 9:1 into training and validation set and use its source validation set as the test set. The source images are gray-scale, and their sizes are (384−2,916)×(127−2,713). We center-crop the images and resize them into 1×28×28.\n",
      "    License: CC BY 4.0\n"
     ]
    }
   ],
   "source": [
    "print(train_dataset)"
   ]
  },
  {
   "cell_type": "markdown",
   "metadata": {},
   "source": [
    "Here we split our data into train, validation, and 2 testing datasets. One is for MUBA, one is for further evaluation. "
   ]
  },
  {
   "cell_type": "code",
   "execution_count": 5,
   "metadata": {},
   "outputs": [],
   "source": [
    "RANDOM_SEED = 1\n",
    "\n",
    "X_train, y_train, X_val, y_val, X_test_A, y_test_A, X_test_B, y_test_B = split_data(\n",
    "  train_dataset, test_dataset, val_dataset, RANDOM_SEED = RANDOM_SEED, one_hot_encoded = True, num_classes=2, image_size = 128)"
   ]
  },
  {
   "cell_type": "code",
   "execution_count": 6,
   "metadata": {},
   "outputs": [
    {
     "name": "stdout",
     "output_type": "stream",
     "text": [
      "\n",
      "Train\n",
      "{(0, 1): 3494, (1, 0): 1214}  ['Normal', 'Pneumonia']\n",
      "\n",
      "Val\n",
      "{(0, 1): 389, (1, 0): 135}  ['Normal', 'Pneumonia']\n",
      "\n",
      "Test A\n",
      "{(0, 1): 117, (1, 0): 70}  ['Normal', 'Pneumonia']\n",
      "\n",
      "Test B\n",
      "{(0, 1): 273, (1, 0): 164}  ['Normal', 'Pneumonia']\n"
     ]
    }
   ],
   "source": [
    "get_label_counts(y_train,y_val,y_test_A,y_test_B,class_names = [\"Normal\",\"Pneumonia\"])"
   ]
  },
  {
   "cell_type": "code",
   "execution_count": 7,
   "metadata": {},
   "outputs": [],
   "source": [
    "X_train_oversample = []\n",
    "y_train_oversample = []\n",
    "\n",
    "for X, y in zip(X_train,y_train):\n",
    "    if y[0] == 1: # Normal is undersampled\n",
    "        for i in range(3):\n",
    "            X_train_oversample.append(X)\n",
    "            y_train_oversample.append(y)\n",
    "    else:\n",
    "        X_train_oversample.append(X)\n",
    "        y_train_oversample.append(y)\n",
    "\n",
    "X_train_oversample = np.array(X_train_oversample).reshape(-1, image_size, image_size, 1)\n",
    "y_train_oversample = np.array(y_train_oversample)"
   ]
  },
  {
   "cell_type": "code",
   "execution_count": 14,
   "metadata": {},
   "outputs": [],
   "source": [
    "X_train_oversample = np.repeat(X_train_oversample, 3, -1)\n",
    "X_val = np.repeat(X_val, 3, -1)\n",
    "X_test_A = np.repeat(X_test_A, 3, -1)\n",
    "X_test_B = np.repeat(X_test_B, 3, -1)"
   ]
  },
  {
   "cell_type": "code",
   "execution_count": 15,
   "metadata": {},
   "outputs": [],
   "source": [
    "datagen = ImageDataGenerator(\n",
    "        featurewise_center=False,  # set input mean to 0 over the dataset\n",
    "        samplewise_center=False,  # set each sample mean to 0\n",
    "        featurewise_std_normalization=False,  # divide inputs by std of the dataset\n",
    "        samplewise_std_normalization=False,  # divide each input by its std\n",
    "        zca_whitening=False,  # apply ZCA whitening\n",
    "        rotation_range = 25,  # randomly rotate images in the range (degrees, 0 to 180)\n",
    "        zoom_range = 0.15, # Randomly zoom image \n",
    "        width_shift_range=0.15,  # randomly shift images horizontally (fraction of total width)\n",
    "        height_shift_range=0.15,  # randomly shift images vertically (fraction of total height)\n",
    "        horizontal_flip = True,  # randomly flip images\n",
    "        vertical_flip=False)  # randomly flip images\n",
    "\n",
    "\n",
    "datagen.fit(X_train_oversample)"
   ]
  },
  {
   "cell_type": "markdown",
   "metadata": {},
   "source": [
    "## EfficientNet\n",
    "\n",
    "This first model we call 'basic' as we are not augmenting the data in any way during training. "
   ]
  },
  {
   "cell_type": "code",
   "execution_count": 12,
   "metadata": {},
   "outputs": [],
   "source": [
    "# The code is creating a ResNet152V2 model with pre-trained weights from the ImageNet dataset. \n",
    "# The base model is frozen, meaning its weights will not be updated during training. \n",
    "# The code then appends additional layers on top of the base model for transfer learning.\n",
    "\n",
    "from tensorflow.keras.applications import EfficientNetV2S\n",
    "base_model = EfficientNetV2S(\n",
    "    include_top=False,\n",
    "    weights='imagenet',\n",
    "    input_shape=((image_size, image_size, 3)),\n",
    "    classes=2,)\n",
    "\n",
    "# Freeze the base_model\n",
    "base_model.trainable = False\n",
    "\n",
    "# append my own layers on the top of the model for Transfer Learning\n",
    "x = base_model.output\n",
    "\n",
    "# 1st conv block\n",
    "x = layers.Conv2D(256, 3, padding='same')(x)\n",
    "x = layers.BatchNormalization()(x)\n",
    "x = layers.Activation('relu')(x)\n",
    "x = layers.GlobalAveragePooling2D(keepdims = True)(x)\n",
    "\n",
    "# 2nd conv block\n",
    "x = layers.Conv2D(128, 3, padding='same')(x)\n",
    "x = layers.BatchNormalization()(x)\n",
    "x = layers.Activation('relu')(x)\n",
    "x = layers.GlobalAveragePooling2D(keepdims = True)(x)\n",
    "\n",
    "# 1st FC layer\n",
    "x = layers.Flatten()(x) \n",
    "x = layers.Dense(64)(x)\n",
    "x = layers.BatchNormalization()(x)\n",
    "x = layers.Activation('relu')(x)\n",
    "\n",
    "# 2nd FC layer\n",
    "x = layers.Dense(32, activation = 'relu')(x)\n",
    "x = layers.BatchNormalization()(x)\n",
    "x = layers.Activation('relu')(x)\n",
    "x = layers.Dropout(.2)(x)\n",
    "\n",
    "x = layers.Dense(2, 'softmax')(x)\n",
    "\n",
    "incept_model = keras.models.Model(inputs = base_model.input, outputs = x)\n",
    "\n",
    "# compile the model\n",
    "incept_model.compile(optimizer=optimizers.RMSprop(.001), loss = losses.categorical_crossentropy, metrics= [metrics.CategoricalAccuracy()])\n"
   ]
  },
  {
   "cell_type": "code",
   "execution_count": 13,
   "metadata": {},
   "outputs": [],
   "source": [
    "learning_rate_reduction = ReduceLROnPlateau(monitor='val_categorical_accuracy', patience = 3, verbose=1,factor=0.3, min_lr=0.0000001)\n",
    "best_model = keras.callbacks.ModelCheckpoint(filepath='./efficient_net2/best_model_epoch_{epoch:02d}.h5', save_best_only=True)\n",
    "\n",
    "class CustomSaver(keras.callbacks.Callback):\n",
    "    def on_epoch_end(self, epoch, logs={}):\n",
    "        if epoch % 5 == 0:  # or save after some epoch, each k-th epoch etc.\n",
    "            self.model.save(f\"efficient_net2/model_epoch_{epoch}.h5\")\n",
    "\n",
    "epoch_saver = CustomSaver()"
   ]
  },
  {
   "cell_type": "code",
   "execution_count": 14,
   "metadata": {},
   "outputs": [
    {
     "name": "stdout",
     "output_type": "stream",
     "text": [
      "Epoch 1/31\n",
      "223/223 [==============================] - ETA: 0s - loss: 0.2954 - categorical_accuracy: 0.8803"
     ]
    },
    {
     "name": "stderr",
     "output_type": "stream",
     "text": [
      "c:\\Users\\Will Poulett\\AppData\\Local\\Programs\\Python\\Python311\\Lib\\site-packages\\keras\\src\\engine\\training.py:3000: UserWarning: You are saving your model as an HDF5 file via `model.save()`. This file format is considered legacy. We recommend using instead the native Keras format, e.g. `model.save('my_model.keras')`.\n",
      "  saving_api.save_model(\n"
     ]
    },
    {
     "name": "stdout",
     "output_type": "stream",
     "text": [
      "223/223 [==============================] - 124s 516ms/step - loss: 0.2954 - categorical_accuracy: 0.8803 - val_loss: 0.3911 - val_categorical_accuracy: 0.8817 - lr: 0.0010\n",
      "Epoch 2/31\n",
      "223/223 [==============================] - 115s 515ms/step - loss: 0.2136 - categorical_accuracy: 0.9186 - val_loss: 0.4678 - val_categorical_accuracy: 0.8416 - lr: 0.0010\n",
      "Epoch 3/31\n",
      "223/223 [==============================] - 121s 544ms/step - loss: 0.1876 - categorical_accuracy: 0.9267 - val_loss: 0.7846 - val_categorical_accuracy: 0.7844 - lr: 0.0010\n",
      "Epoch 4/31\n",
      "223/223 [==============================] - ETA: 0s - loss: 0.1734 - categorical_accuracy: 0.9330\n",
      "Epoch 4: ReduceLROnPlateau reducing learning rate to 0.0003000000142492354.\n",
      "223/223 [==============================] - 119s 533ms/step - loss: 0.1734 - categorical_accuracy: 0.9330 - val_loss: 0.3249 - val_categorical_accuracy: 0.8740 - lr: 0.0010\n",
      "Epoch 5/31\n",
      "223/223 [==============================] - 118s 527ms/step - loss: 0.1567 - categorical_accuracy: 0.9404 - val_loss: 0.2825 - val_categorical_accuracy: 0.8817 - lr: 3.0000e-04\n",
      "Epoch 6/31\n",
      "223/223 [==============================] - 114s 512ms/step - loss: 0.1475 - categorical_accuracy: 0.9404 - val_loss: 0.2338 - val_categorical_accuracy: 0.9103 - lr: 3.0000e-04\n",
      "Epoch 7/31\n",
      "223/223 [==============================] - 117s 525ms/step - loss: 0.1412 - categorical_accuracy: 0.9456 - val_loss: 0.1295 - val_categorical_accuracy: 0.9542 - lr: 3.0000e-04\n",
      "Epoch 8/31\n",
      "223/223 [==============================] - 117s 523ms/step - loss: 0.1377 - categorical_accuracy: 0.9487 - val_loss: 0.2331 - val_categorical_accuracy: 0.9065 - lr: 3.0000e-04\n",
      "Epoch 9/31\n",
      "223/223 [==============================] - 121s 542ms/step - loss: 0.1418 - categorical_accuracy: 0.9444 - val_loss: 0.2338 - val_categorical_accuracy: 0.9103 - lr: 3.0000e-04\n",
      "Epoch 10/31\n",
      "223/223 [==============================] - ETA: 0s - loss: 0.1441 - categorical_accuracy: 0.9476\n",
      "Epoch 10: ReduceLROnPlateau reducing learning rate to 9.000000427477062e-05.\n",
      "223/223 [==============================] - 121s 544ms/step - loss: 0.1441 - categorical_accuracy: 0.9476 - val_loss: 0.2837 - val_categorical_accuracy: 0.9008 - lr: 3.0000e-04\n",
      "Epoch 11/31\n",
      "223/223 [==============================] - 116s 519ms/step - loss: 0.1333 - categorical_accuracy: 0.9518 - val_loss: 0.2286 - val_categorical_accuracy: 0.9122 - lr: 9.0000e-05\n",
      "Epoch 12/31\n",
      "223/223 [==============================] - 114s 509ms/step - loss: 0.1200 - categorical_accuracy: 0.9577 - val_loss: 0.2043 - val_categorical_accuracy: 0.9198 - lr: 9.0000e-05\n",
      "Epoch 13/31\n",
      "223/223 [==============================] - ETA: 0s - loss: 0.1342 - categorical_accuracy: 0.9515\n",
      "Epoch 13: ReduceLROnPlateau reducing learning rate to 2.700000040931627e-05.\n",
      "223/223 [==============================] - 115s 514ms/step - loss: 0.1342 - categorical_accuracy: 0.9515 - val_loss: 0.2106 - val_categorical_accuracy: 0.9218 - lr: 9.0000e-05\n",
      "Epoch 14/31\n",
      "223/223 [==============================] - 112s 503ms/step - loss: 0.1271 - categorical_accuracy: 0.9505 - val_loss: 0.2267 - val_categorical_accuracy: 0.9141 - lr: 2.7000e-05\n",
      "Epoch 15/31\n",
      "223/223 [==============================] - 115s 515ms/step - loss: 0.1174 - categorical_accuracy: 0.9547 - val_loss: 0.2183 - val_categorical_accuracy: 0.9179 - lr: 2.7000e-05\n",
      "Epoch 16/31\n",
      "223/223 [==============================] - ETA: 0s - loss: 0.1151 - categorical_accuracy: 0.9570\n",
      "Epoch 16: ReduceLROnPlateau reducing learning rate to 8.100000013655517e-06.\n",
      "223/223 [==============================] - 119s 533ms/step - loss: 0.1151 - categorical_accuracy: 0.9570 - val_loss: 0.2356 - val_categorical_accuracy: 0.9084 - lr: 2.7000e-05\n",
      "Epoch 17/31\n",
      "223/223 [==============================] - 127s 570ms/step - loss: 0.1268 - categorical_accuracy: 0.9528 - val_loss: 0.2284 - val_categorical_accuracy: 0.9122 - lr: 8.1000e-06\n",
      "Epoch 18/31\n",
      "223/223 [==============================] - 122s 545ms/step - loss: 0.1256 - categorical_accuracy: 0.9549 - val_loss: 0.2335 - val_categorical_accuracy: 0.9103 - lr: 8.1000e-06\n",
      "Epoch 19/31\n",
      "223/223 [==============================] - ETA: 0s - loss: 0.1209 - categorical_accuracy: 0.9575\n",
      "Epoch 19: ReduceLROnPlateau reducing learning rate to 2.429999949526973e-06.\n",
      "223/223 [==============================] - 115s 514ms/step - loss: 0.1209 - categorical_accuracy: 0.9575 - val_loss: 0.2236 - val_categorical_accuracy: 0.9141 - lr: 8.1000e-06\n",
      "Epoch 20/31\n",
      "223/223 [==============================] - 110s 494ms/step - loss: 0.1227 - categorical_accuracy: 0.9539 - val_loss: 0.2146 - val_categorical_accuracy: 0.9160 - lr: 2.4300e-06\n",
      "Epoch 21/31\n",
      "223/223 [==============================] - 116s 521ms/step - loss: 0.1236 - categorical_accuracy: 0.9547 - val_loss: 0.2144 - val_categorical_accuracy: 0.9160 - lr: 2.4300e-06\n",
      "Epoch 22/31\n",
      "223/223 [==============================] - ETA: 0s - loss: 0.1307 - categorical_accuracy: 0.9549\n",
      "Epoch 22: ReduceLROnPlateau reducing learning rate to 7.289999985005124e-07.\n",
      "223/223 [==============================] - 114s 509ms/step - loss: 0.1307 - categorical_accuracy: 0.9549 - val_loss: 0.2187 - val_categorical_accuracy: 0.9141 - lr: 2.4300e-06\n",
      "Epoch 23/31\n",
      "223/223 [==============================] - 115s 516ms/step - loss: 0.1236 - categorical_accuracy: 0.9538 - val_loss: 0.2186 - val_categorical_accuracy: 0.9141 - lr: 7.2900e-07\n",
      "Epoch 24/31\n",
      "223/223 [==============================] - 115s 514ms/step - loss: 0.1160 - categorical_accuracy: 0.9595 - val_loss: 0.2207 - val_categorical_accuracy: 0.9141 - lr: 7.2900e-07\n",
      "Epoch 25/31\n",
      "223/223 [==============================] - ETA: 0s - loss: 0.1215 - categorical_accuracy: 0.9546\n",
      "Epoch 25: ReduceLROnPlateau reducing learning rate to 2.1870000637136398e-07.\n",
      "223/223 [==============================] - 117s 523ms/step - loss: 0.1215 - categorical_accuracy: 0.9546 - val_loss: 0.2226 - val_categorical_accuracy: 0.9141 - lr: 7.2900e-07\n",
      "Epoch 26/31\n",
      "223/223 [==============================] - 114s 511ms/step - loss: 0.1216 - categorical_accuracy: 0.9542 - val_loss: 0.2202 - val_categorical_accuracy: 0.9141 - lr: 2.1870e-07\n",
      "Epoch 27/31\n",
      "223/223 [==============================] - 120s 539ms/step - loss: 0.1322 - categorical_accuracy: 0.9515 - val_loss: 0.2215 - val_categorical_accuracy: 0.9160 - lr: 2.1870e-07\n",
      "Epoch 28/31\n",
      "223/223 [==============================] - ETA: 0s - loss: 0.1166 - categorical_accuracy: 0.9574\n",
      "Epoch 28: ReduceLROnPlateau reducing learning rate to 1e-07.\n",
      "223/223 [==============================] - 116s 518ms/step - loss: 0.1166 - categorical_accuracy: 0.9574 - val_loss: 0.2176 - val_categorical_accuracy: 0.9160 - lr: 2.1870e-07\n",
      "Epoch 29/31\n",
      "223/223 [==============================] - 116s 519ms/step - loss: 0.1226 - categorical_accuracy: 0.9563 - val_loss: 0.2171 - val_categorical_accuracy: 0.9160 - lr: 1.0000e-07\n",
      "Epoch 30/31\n",
      "223/223 [==============================] - 115s 516ms/step - loss: 0.1242 - categorical_accuracy: 0.9539 - val_loss: 0.2238 - val_categorical_accuracy: 0.9141 - lr: 1.0000e-07\n",
      "Epoch 31/31\n",
      "223/223 [==============================] - 116s 518ms/step - loss: 0.1176 - categorical_accuracy: 0.9560 - val_loss: 0.2213 - val_categorical_accuracy: 0.9141 - lr: 1.0000e-07\n"
     ]
    }
   ],
   "source": [
    "history = incept_model.fit(datagen.flow(X_train_oversample,y_train_oversample, batch_size = 32), batch_size = 32, epochs = 31 , validation_data = (X_val, y_val) ,callbacks = [learning_rate_reduction,best_model,epoch_saver],)"
   ]
  },
  {
   "cell_type": "markdown",
   "metadata": {},
   "source": []
  },
  {
   "cell_type": "code",
   "execution_count": 16,
   "metadata": {},
   "outputs": [
    {
     "data": {
      "image/png": "[encoded data removed]",
      "text/plain": [
       "<Figure size 2000x1000 with 2 Axes>"
      ]
     },
     "metadata": {},
     "output_type": "display_data"
    }
   ],
   "source": [
    "def plot_history(history, size = (20,10), epochs = 30):\n",
    "    epochs = [i for i in range(epochs)]\n",
    "    fig , ax = plt.subplots(1,2)\n",
    "    train_acc = history.history['categorical_accuracy']\n",
    "    train_loss = history.history['loss']\n",
    "    val_acc = history.history['val_categorical_accuracy']\n",
    "    val_loss = history.history['val_loss']\n",
    "    fig.set_size_inches(20,10)\n",
    "\n",
    "    ax[0].plot(epochs , train_acc , 'go-' , label = 'Training Accuracy')\n",
    "    ax[0].plot(epochs , val_acc , 'ro-' , label = 'Validation Accuracy')\n",
    "    ax[0].set_title('Training & Validation Accuracy')\n",
    "    ax[0].legend()\n",
    "    ax[0].set_xlabel(\"Epochs\")\n",
    "    ax[0].set_ylabel(\"Accuracy\")\n",
    "\n",
    "    ax[1].plot(epochs , train_loss , 'g-o' , label = 'Training Loss')\n",
    "    ax[1].plot(epochs , val_loss , 'r-o' , label = 'Validation Loss')\n",
    "    ax[1].set_title('Testing Validation & Loss')\n",
    "    ax[1].legend()\n",
    "    ax[1].set_xlabel(\"Epochs\")\n",
    "    ax[1].set_ylabel(\"Training & Validation Loss\")\n",
    "    plt.show()\n",
    "\n",
    "plot_history(history, size=(20,10), epochs = 31)"
   ]
  },
  {
   "cell_type": "code",
   "execution_count": 27,
   "metadata": {},
   "outputs": [],
   "source": [
    "model = keras.models.load_model(\"./efficient_net2/best_model_epoch_07.h5\")"
   ]
  },
  {
   "cell_type": "code",
   "execution_count": 28,
   "metadata": {},
   "outputs": [
    {
     "name": "stdout",
     "output_type": "stream",
     "text": [
      "6/6 [==============================] - 5s 411ms/step\n",
      "14/14 [==============================] - 6s 416ms/step\n",
      "Test Set A\n",
      "                     precision    recall  f1-score   support\n",
      "\n",
      "   Normal (Class 0)       0.95      0.90      0.93        70\n",
      "Pneumonia (Class 1)       0.94      0.97      0.96       117\n",
      "\n",
      "           accuracy                           0.95       187\n",
      "          macro avg       0.95      0.94      0.94       187\n",
      "       weighted avg       0.95      0.95      0.95       187\n",
      "\n",
      "\n",
      "Test Set B\n",
      "                     precision    recall  f1-score   support\n",
      "\n",
      "   Normal (Class 0)       0.94      0.85      0.89       164\n",
      "Pneumonia (Class 1)       0.92      0.97      0.94       273\n",
      "\n",
      "           accuracy                           0.92       437\n",
      "          macro avg       0.93      0.91      0.92       437\n",
      "       weighted avg       0.93      0.92      0.92       437\n",
      "\n",
      "Test Set A\n",
      "[[ 63   7]\n",
      " [  3 114]]\n",
      "\n",
      "Test Set B\n",
      "[[140  24]\n",
      " [  9 264]]\n"
     ]
    }
   ],
   "source": [
    "predictions_A = model.predict(X_test_A)\n",
    "predictions_B = model.predict(X_test_B)\n",
    "# argmax([0.8,0.2]) = 0. 0 is \"Normal\"\n",
    "\n",
    "print(\"Test Set A\")\n",
    "print(classification_report(argmax_array(y_test_A), argmax_array(predictions_A), target_names = ['Normal (Class 0)','Pneumonia (Class 1)']))\n",
    "print(\"\\nTest Set B\")\n",
    "print(classification_report(argmax_array(y_test_B),argmax_array(predictions_B), target_names = ['Normal (Class 0)','Pneumonia (Class 1)']))\n",
    "\n",
    "print(\"Test Set A\")\n",
    "print(confusion_matrix(argmax_array(y_test_A), argmax_array(predictions_A)))\n",
    "print(\"\\nTest Set B\")\n",
    "print(confusion_matrix(argmax_array(y_test_B), argmax_array(predictions_B)))"
   ]
  },
  {
   "cell_type": "code",
   "execution_count": 29,
   "metadata": {},
   "outputs": [],
   "source": [
    "best_model = keras.callbacks.ModelCheckpoint(filepath='./finetuned_efficient_net2/best_model_epoch_{epoch:02d}.h5', save_best_only=True)\n",
    "\n",
    "class CustomSaver(keras.callbacks.Callback):\n",
    "    def on_epoch_end(self, epoch, logs={}):\n",
    "        if epoch % 5 == 0:  # or save after some epoch, each k-th epoch etc.\n",
    "            self.model.save(f\"finetuned_efficient_net2/model_epoch_{epoch}.h5\")\n",
    "\n",
    "epoch_saver = CustomSaver()"
   ]
  },
  {
   "cell_type": "code",
   "execution_count": 30,
   "metadata": {},
   "outputs": [],
   "source": [
    "# Unfreeze the base model\n",
    "model.trainable = True"
   ]
  },
  {
   "cell_type": "code",
   "execution_count": 31,
   "metadata": {},
   "outputs": [],
   "source": [
    "model.compile(\n",
    "    optimizer=keras.optimizers.RMSprop(1e-5),  # Low learning rate\n",
    "    loss = \"categorical_crossentropy\",\n",
    "    metrics = ['accuracy'],\n",
    ")"
   ]
  },
  {
   "cell_type": "code",
   "execution_count": 33,
   "metadata": {},
   "outputs": [
    {
     "name": "stdout",
     "output_type": "stream",
     "text": [
      "Epoch 1/11\n",
      "223/223 [==============================] - 522s 2s/step - loss: 0.1215 - accuracy: 0.9567 - val_loss: 0.0905 - val_accuracy: 0.9637\n",
      "Epoch 2/11\n",
      "223/223 [==============================] - 492s 2s/step - loss: 0.1190 - accuracy: 0.9599 - val_loss: 0.0778 - val_accuracy: 0.9733\n",
      "Epoch 3/11\n",
      "223/223 [==============================] - 488s 2s/step - loss: 0.1047 - accuracy: 0.9627 - val_loss: 0.0725 - val_accuracy: 0.9733\n",
      "Epoch 4/11\n",
      "223/223 [==============================] - 488s 2s/step - loss: 0.1096 - accuracy: 0.9617 - val_loss: 0.0716 - val_accuracy: 0.9733\n",
      "Epoch 5/11\n",
      "223/223 [==============================] - 519s 2s/step - loss: 0.1029 - accuracy: 0.9643 - val_loss: 0.0685 - val_accuracy: 0.9752\n",
      "Epoch 6/11\n",
      "223/223 [==============================] - 561s 3s/step - loss: 0.0921 - accuracy: 0.9664 - val_loss: 0.0667 - val_accuracy: 0.9714\n",
      "Epoch 7/11\n",
      "223/223 [==============================] - 543s 2s/step - loss: 0.0945 - accuracy: 0.9668 - val_loss: 0.0637 - val_accuracy: 0.9790\n",
      "Epoch 8/11\n",
      "223/223 [==============================] - 554s 2s/step - loss: 0.1021 - accuracy: 0.9668 - val_loss: 0.0607 - val_accuracy: 0.9752\n",
      "Epoch 9/11\n",
      "223/223 [==============================] - 522s 2s/step - loss: 0.0832 - accuracy: 0.9693 - val_loss: 0.0548 - val_accuracy: 0.9771\n",
      "Epoch 10/11\n",
      "223/223 [==============================] - 566s 3s/step - loss: 0.0865 - accuracy: 0.9725 - val_loss: 0.0523 - val_accuracy: 0.9790\n",
      "Epoch 11/11\n",
      "223/223 [==============================] - 543s 2s/step - loss: 0.0787 - accuracy: 0.9734 - val_loss: 0.0538 - val_accuracy: 0.9790\n"
     ]
    }
   ],
   "source": [
    "history = model.fit(datagen.flow(X_train_oversample,y_train_oversample, batch_size = 32), batch_size = 32, epochs = 11 , validation_data = (X_val, y_val) ,callbacks = [best_model,epoch_saver],)"
   ]
  },
  {
   "cell_type": "code",
   "execution_count": 37,
   "metadata": {},
   "outputs": [
    {
     "name": "stdout",
     "output_type": "stream",
     "text": [
      "6/6 [==============================] - 5s 419ms/step\n",
      "14/14 [==============================] - 6s 449ms/step\n",
      "Test Set A\n",
      "                     precision    recall  f1-score   support\n",
      "\n",
      "   Normal (Class 0)       1.00      0.86      0.92        70\n",
      "Pneumonia (Class 1)       0.92      1.00      0.96       117\n",
      "\n",
      "           accuracy                           0.95       187\n",
      "          macro avg       0.96      0.93      0.94       187\n",
      "       weighted avg       0.95      0.95      0.95       187\n",
      "\n",
      "\n",
      "Test Set B\n",
      "                     precision    recall  f1-score   support\n",
      "\n",
      "   Normal (Class 0)       0.99      0.82      0.90       164\n",
      "Pneumonia (Class 1)       0.90      1.00      0.95       273\n",
      "\n",
      "           accuracy                           0.93       437\n",
      "          macro avg       0.95      0.91      0.92       437\n",
      "       weighted avg       0.94      0.93      0.93       437\n",
      "\n",
      "Test Set A\n",
      "[[ 60  10]\n",
      " [  0 117]]\n",
      "\n",
      "Test Set B\n",
      "[[135  29]\n",
      " [  1 272]]\n"
     ]
    }
   ],
   "source": [
    "model = keras.models.load_model(\"./finetuned_efficient_net2/best_model_epoch_10.h5\")\n",
    "\n",
    "predictions_A = model.predict(X_test_A)\n",
    "predictions_B = model.predict(X_test_B)\n",
    "# argmax([0.8,0.2]) = 0. 0 is \"Normal\"\n",
    "\n",
    "print(\"Test Set A\")\n",
    "print(classification_report(argmax_array(y_test_A), argmax_array(predictions_A), target_names = ['Normal (Class 0)','Pneumonia (Class 1)']))\n",
    "print(\"\\nTest Set B\")\n",
    "print(classification_report(argmax_array(y_test_B),argmax_array(predictions_B), target_names = ['Normal (Class 0)','Pneumonia (Class 1)']))\n",
    "\n",
    "print(\"Test Set A\")\n",
    "print(confusion_matrix(argmax_array(y_test_A), argmax_array(predictions_A)))\n",
    "print(\"\\nTest Set B\")\n",
    "print(confusion_matrix(argmax_array(y_test_B), argmax_array(predictions_B)))"
   ]
  },
  {
   "cell_type": "code",
   "execution_count": 8,
   "metadata": {},
   "outputs": [],
   "source": [
    "model = keras.models.load_model(\"./efficient_net2/model_epoch_30.h5\")"
   ]
  },
  {
   "cell_type": "code",
   "execution_count": 9,
   "metadata": {},
   "outputs": [],
   "source": [
    "best_model = keras.callbacks.ModelCheckpoint(filepath='./finetuned_efficient_net3/best_model_epoch_{epoch:02d}.h5', save_best_only=True)\n",
    "\n",
    "class CustomSaver(keras.callbacks.Callback):\n",
    "    def on_epoch_end(self, epoch, logs={}):\n",
    "        if epoch % 5 == 0:  # or save after some epoch, each k-th epoch etc.\n",
    "            self.model.save(f\"finetuned_efficient_net3/model_epoch_{epoch}.h5\")\n",
    "\n",
    "epoch_saver = CustomSaver()"
   ]
  },
  {
   "cell_type": "code",
   "execution_count": 10,
   "metadata": {},
   "outputs": [],
   "source": [
    "# Unfreeze the base model\n",
    "model.trainable = True"
   ]
  },
  {
   "cell_type": "code",
   "execution_count": 11,
   "metadata": {},
   "outputs": [],
   "source": [
    "model.compile(\n",
    "    optimizer=keras.optimizers.RMSprop(1e-5),  # Low learning rate\n",
    "    loss = \"categorical_crossentropy\",\n",
    "    metrics = ['accuracy'],\n",
    ")"
   ]
  },
  {
   "cell_type": "code",
   "execution_count": 16,
   "metadata": {},
   "outputs": [
    {
     "name": "stdout",
     "output_type": "stream",
     "text": [
      "Epoch 1/16\n",
      "223/223 [==============================] - ETA: 0s - loss: 0.4247 - accuracy: 0.8719"
     ]
    },
    {
     "name": "stderr",
     "output_type": "stream",
     "text": [
      "c:\\Users\\Will Poulett\\AppData\\Local\\Programs\\Python\\Python311\\Lib\\site-packages\\keras\\src\\engine\\training.py:3000: UserWarning: You are saving your model as an HDF5 file via `model.save()`. This file format is considered legacy. We recommend using instead the native Keras format, e.g. `model.save('my_model.keras')`.\n",
      "  saving_api.save_model(\n"
     ]
    },
    {
     "name": "stdout",
     "output_type": "stream",
     "text": [
      "223/223 [==============================] - 602s 3s/step - loss: 0.4247 - accuracy: 0.8719 - val_loss: 0.4774 - val_accuracy: 0.8397\n",
      "Epoch 2/16\n",
      "223/223 [==============================] - 502s 2s/step - loss: 0.2129 - accuracy: 0.9239 - val_loss: 0.2286 - val_accuracy: 0.9179\n",
      "Epoch 3/16\n",
      "223/223 [==============================] - 591s 3s/step - loss: 0.1884 - accuracy: 0.9336 - val_loss: 0.1853 - val_accuracy: 0.9313\n",
      "Epoch 4/16\n",
      "223/223 [==============================] - 581s 3s/step - loss: 0.1712 - accuracy: 0.9362 - val_loss: 0.1569 - val_accuracy: 0.9427\n",
      "Epoch 5/16\n",
      "223/223 [==============================] - 573s 3s/step - loss: 0.1465 - accuracy: 0.9465 - val_loss: 0.1269 - val_accuracy: 0.9504\n",
      "Epoch 6/16\n",
      "223/223 [==============================] - 532s 2s/step - loss: 0.1290 - accuracy: 0.9532 - val_loss: 0.1152 - val_accuracy: 0.9618\n",
      "Epoch 7/16\n",
      "223/223 [==============================] - 548s 2s/step - loss: 0.1305 - accuracy: 0.9533 - val_loss: 0.0957 - val_accuracy: 0.9637\n",
      "Epoch 8/16\n",
      "223/223 [==============================] - 509s 2s/step - loss: 0.1226 - accuracy: 0.9556 - val_loss: 0.0925 - val_accuracy: 0.9656\n",
      "Epoch 9/16\n",
      "223/223 [==============================] - 576s 3s/step - loss: 0.1039 - accuracy: 0.9630 - val_loss: 0.0801 - val_accuracy: 0.9714\n",
      "Epoch 10/16\n",
      "223/223 [==============================] - 604s 3s/step - loss: 0.1094 - accuracy: 0.9626 - val_loss: 0.0786 - val_accuracy: 0.9714\n",
      "Epoch 11/16\n",
      "223/223 [==============================] - 640s 3s/step - loss: 0.0948 - accuracy: 0.9678 - val_loss: 0.0723 - val_accuracy: 0.9733\n",
      "Epoch 12/16\n",
      "223/223 [==============================] - 604s 3s/step - loss: 0.0948 - accuracy: 0.9671 - val_loss: 0.0788 - val_accuracy: 0.9714\n",
      "Epoch 13/16\n",
      "223/223 [==============================] - 635s 3s/step - loss: 0.0934 - accuracy: 0.9678 - val_loss: 0.0697 - val_accuracy: 0.9771\n",
      "Epoch 14/16\n",
      "223/223 [==============================] - 616s 3s/step - loss: 0.0833 - accuracy: 0.9706 - val_loss: 0.0602 - val_accuracy: 0.9771\n",
      "Epoch 15/16\n",
      "223/223 [==============================] - 567s 3s/step - loss: 0.0777 - accuracy: 0.9723 - val_loss: 0.0612 - val_accuracy: 0.9790\n",
      "Epoch 16/16\n",
      "223/223 [==============================] - 566s 3s/step - loss: 0.0862 - accuracy: 0.9693 - val_loss: 0.0701 - val_accuracy: 0.9733\n"
     ]
    }
   ],
   "source": [
    "history = model.fit(datagen.flow(X_train_oversample,y_train_oversample, batch_size = 32), batch_size = 32, epochs = 16 , validation_data = (X_val, y_val) ,callbacks = [best_model,epoch_saver],)"
   ]
  },
  {
   "cell_type": "code",
   "execution_count": 18,
   "metadata": {},
   "outputs": [
    {
     "name": "stdout",
     "output_type": "stream",
     "text": [
      "6/6 [==============================] - 4s 377ms/step\n",
      "14/14 [==============================] - 5s 374ms/step\n",
      "Test Set A\n",
      "                     precision    recall  f1-score   support\n",
      "\n",
      "   Normal (Class 0)       1.00      0.86      0.92        70\n",
      "Pneumonia (Class 1)       0.92      1.00      0.96       117\n",
      "\n",
      "           accuracy                           0.95       187\n",
      "          macro avg       0.96      0.93      0.94       187\n",
      "       weighted avg       0.95      0.95      0.95       187\n",
      "\n",
      "\n",
      "Test Set B\n",
      "                     precision    recall  f1-score   support\n",
      "\n",
      "   Normal (Class 0)       0.97      0.80      0.88       164\n",
      "Pneumonia (Class 1)       0.89      0.99      0.94       273\n",
      "\n",
      "           accuracy                           0.92       437\n",
      "          macro avg       0.93      0.90      0.91       437\n",
      "       weighted avg       0.92      0.92      0.92       437\n",
      "\n",
      "Test Set A\n",
      "[[ 60  10]\n",
      " [  0 117]]\n",
      "\n",
      "Test Set B\n",
      "[[132  32]\n",
      " [  4 269]]\n"
     ]
    }
   ],
   "source": [
    "model = keras.models.load_model(\"./finetuned_efficient_net3/model_epoch_15.h5\")\n",
    "\n",
    "\n",
    "predictions_A = model.predict(X_test_A)\n",
    "predictions_B = model.predict(X_test_B)\n",
    "# argmax([0.8,0.2]) = 0. 0 is \"Normal\"\n",
    "\n",
    "print(\"Test Set A\")\n",
    "print(classification_report(argmax_array(y_test_A), argmax_array(predictions_A), target_names = ['Normal (Class 0)','Pneumonia (Class 1)']))\n",
    "print(\"\\nTest Set B\")\n",
    "print(classification_report(argmax_array(y_test_B),argmax_array(predictions_B), target_names = ['Normal (Class 0)','Pneumonia (Class 1)']))\n",
    "\n",
    "print(\"Test Set A\")\n",
    "print(confusion_matrix(argmax_array(y_test_A), argmax_array(predictions_A)))\n",
    "print(\"\\nTest Set B\")\n",
    "print(confusion_matrix(argmax_array(y_test_B), argmax_array(predictions_B)))"
   ]
  },
  {
   "cell_type": "code",
   "execution_count": 21,
   "metadata": {},
   "outputs": [],
   "source": [
    "best_model = keras.callbacks.ModelCheckpoint(filepath='./finetuned_efficient_net4/best_model_epoch_{epoch:02d}.h5', save_best_only=True)\n",
    "\n",
    "class CustomSaver(keras.callbacks.Callback):\n",
    "    def on_epoch_end(self, epoch, logs={}):\n",
    "        if epoch % 5 == 0:  # or save after some epoch, each k-th epoch etc.\n",
    "            self.model.save(f\"finetuned_efficient_net4/model_epoch_{epoch}.h5\")\n",
    "\n",
    "epoch_saver = CustomSaver()\n",
    "\n",
    "model.compile(\n",
    "    optimizer=keras.optimizers.RMSprop(1e-5),  # Low learning rate\n",
    "    loss = \"categorical_crossentropy\",\n",
    "    metrics = ['accuracy'],\n",
    ")\n",
    "\n",
    "# Unfreeze the base model\n",
    "model.trainable = True"
   ]
  },
  {
   "cell_type": "code",
   "execution_count": 22,
   "metadata": {},
   "outputs": [
    {
     "name": "stdout",
     "output_type": "stream",
     "text": [
      "Epoch 1/16\n",
      "223/223 [==============================] - ETA: 0s - loss: 0.0732 - accuracy: 0.9759"
     ]
    },
    {
     "name": "stderr",
     "output_type": "stream",
     "text": [
      "c:\\Users\\Will Poulett\\AppData\\Local\\Programs\\Python\\Python311\\Lib\\site-packages\\keras\\src\\engine\\training.py:3000: UserWarning: You are saving your model as an HDF5 file via `model.save()`. This file format is considered legacy. We recommend using instead the native Keras format, e.g. `model.save('my_model.keras')`.\n",
      "  saving_api.save_model(\n"
     ]
    },
    {
     "name": "stdout",
     "output_type": "stream",
     "text": [
      "223/223 [==============================] - 735s 3s/step - loss: 0.0732 - accuracy: 0.9759 - val_loss: 0.0579 - val_accuracy: 0.9828\n",
      "Epoch 2/16\n",
      "223/223 [==============================] - 586s 3s/step - loss: 0.0712 - accuracy: 0.9772 - val_loss: 0.0579 - val_accuracy: 0.9828\n",
      "Epoch 3/16\n",
      "223/223 [==============================] - 606s 3s/step - loss: 0.0700 - accuracy: 0.9767 - val_loss: 0.0555 - val_accuracy: 0.9847\n",
      "Epoch 4/16\n",
      "223/223 [==============================] - 513s 2s/step - loss: 0.0690 - accuracy: 0.9755 - val_loss: 0.0564 - val_accuracy: 0.9828\n",
      "Epoch 5/16\n",
      "223/223 [==============================] - 2437s 11s/step - loss: 0.0630 - accuracy: 0.9804 - val_loss: 0.0618 - val_accuracy: 0.9752\n",
      "Epoch 6/16\n",
      "223/223 [==============================] - 490s 2s/step - loss: 0.0618 - accuracy: 0.9791 - val_loss: 0.0526 - val_accuracy: 0.9866\n",
      "Epoch 7/16\n",
      "223/223 [==============================] - 592s 3s/step - loss: 0.0587 - accuracy: 0.9804 - val_loss: 0.0521 - val_accuracy: 0.9847\n",
      "Epoch 8/16\n",
      "223/223 [==============================] - 536s 2s/step - loss: 0.0569 - accuracy: 0.9811 - val_loss: 0.0532 - val_accuracy: 0.9885\n",
      "Epoch 9/16\n",
      "223/223 [==============================] - 578s 3s/step - loss: 0.0641 - accuracy: 0.9788 - val_loss: 0.0547 - val_accuracy: 0.9885\n",
      "Epoch 10/16\n",
      "223/223 [==============================] - 566s 3s/step - loss: 0.0622 - accuracy: 0.9773 - val_loss: 0.0557 - val_accuracy: 0.9847\n",
      "Epoch 11/16\n",
      "223/223 [==============================] - 722s 3s/step - loss: 0.0523 - accuracy: 0.9830 - val_loss: 0.0552 - val_accuracy: 0.9847\n",
      "Epoch 12/16\n",
      "223/223 [==============================] - 653s 3s/step - loss: 0.0520 - accuracy: 0.9830 - val_loss: 0.0615 - val_accuracy: 0.9771\n",
      "Epoch 13/16\n",
      "223/223 [==============================] - 623s 3s/step - loss: 0.0521 - accuracy: 0.9832 - val_loss: 0.0616 - val_accuracy: 0.9809\n",
      "Epoch 14/16\n",
      "223/223 [==============================] - 578s 3s/step - loss: 0.0498 - accuracy: 0.9832 - val_loss: 0.0526 - val_accuracy: 0.9847\n",
      "Epoch 15/16\n",
      "223/223 [==============================] - 625s 3s/step - loss: 0.0481 - accuracy: 0.9849 - val_loss: 0.0590 - val_accuracy: 0.9847\n",
      "Epoch 16/16\n",
      "223/223 [==============================] - 565s 3s/step - loss: 0.0443 - accuracy: 0.9851 - val_loss: 0.0532 - val_accuracy: 0.9866\n"
     ]
    }
   ],
   "source": [
    "history = model.fit(datagen.flow(X_train_oversample,y_train_oversample, batch_size = 32), batch_size = 32, epochs = 16 , validation_data = (X_val, y_val) ,callbacks = [best_model,epoch_saver],)"
   ]
  },
  {
   "cell_type": "code",
   "execution_count": 53,
   "metadata": {},
   "outputs": [
    {
     "name": "stdout",
     "output_type": "stream",
     "text": [
      "6/6 [==============================] - 5s 534ms/step\n",
      "14/14 [==============================] - 8s 537ms/step\n",
      "Test Set A\n",
      "                     precision    recall  f1-score   support\n",
      "\n",
      "   Normal (Class 0)       1.00      0.80      0.89        70\n",
      "Pneumonia (Class 1)       0.89      1.00      0.94       117\n",
      "\n",
      "           accuracy                           0.93       187\n",
      "          macro avg       0.95      0.90      0.92       187\n",
      "       weighted avg       0.93      0.93      0.92       187\n",
      "\n",
      "\n",
      "Test Set B\n",
      "                     precision    recall  f1-score   support\n",
      "\n",
      "   Normal (Class 0)       0.99      0.80      0.89       164\n",
      "Pneumonia (Class 1)       0.89      0.99      0.94       273\n",
      "\n",
      "           accuracy                           0.92       437\n",
      "          macro avg       0.94      0.90      0.91       437\n",
      "       weighted avg       0.93      0.92      0.92       437\n",
      "\n",
      "Test Set A\n",
      "[[ 56  14]\n",
      " [  0 117]]\n",
      "\n",
      "Test Set B\n",
      "[[132  32]\n",
      " [  2 271]]\n"
     ]
    }
   ],
   "source": [
    "model = keras.models.load_model(\"./finetuned_efficient_net4/best_model_epoch_07.h5\")\n",
    "\n",
    "\n",
    "predictions_A = model.predict(X_test_A)\n",
    "predictions_B = model.predict(X_test_B)\n",
    "# argmax([0.8,0.2]) = 0. 0 is \"Normal\"\n",
    "\n",
    "print(\"Test Set A\")\n",
    "print(classification_report(argmax_array(y_test_A), argmax_array(predictions_A), target_names = ['Normal (Class 0)','Pneumonia (Class 1)']))\n",
    "print(\"\\nTest Set B\")\n",
    "print(classification_report(argmax_array(y_test_B),argmax_array(predictions_B), target_names = ['Normal (Class 0)','Pneumonia (Class 1)']))\n",
    "\n",
    "print(\"Test Set A\")\n",
    "print(confusion_matrix(argmax_array(y_test_A), argmax_array(predictions_A)))\n",
    "print(\"\\nTest Set B\")\n",
    "print(confusion_matrix(argmax_array(y_test_B), argmax_array(predictions_B)))"
   ]
  },
  {
   "cell_type": "code",
   "execution_count": 54,
   "metadata": {},
   "outputs": [
    {
     "name": "stdout",
     "output_type": "stream",
     "text": [
      "Test Set A\n",
      "                     precision    recall  f1-score   support\n",
      "\n",
      "   Normal (Class 0)       0.89      0.97      0.93        70\n",
      "Pneumonia (Class 1)       0.98      0.93      0.96       117\n",
      "\n",
      "           accuracy                           0.95       187\n",
      "          macro avg       0.94      0.95      0.94       187\n",
      "       weighted avg       0.95      0.95      0.95       187\n",
      "\n",
      "\n",
      "Test Set B\n",
      "                     precision    recall  f1-score   support\n",
      "\n",
      "   Normal (Class 0)       0.91      0.95      0.93       164\n",
      "Pneumonia (Class 1)       0.97      0.95      0.96       273\n",
      "\n",
      "           accuracy                           0.95       437\n",
      "          macro avg       0.94      0.95      0.94       437\n",
      "       weighted avg       0.95      0.95      0.95       437\n",
      "\n",
      "Test Set A\n",
      "[[ 68   2]\n",
      " [  8 109]]\n",
      "\n",
      "Test Set B\n",
      "[[156   8]\n",
      " [ 15 258]]\n"
     ]
    }
   ],
   "source": [
    "predictions_A_01 = [0 if a[0] > 0.01 else 1 for a in predictions_A]\n",
    "predictions_B_01 = [0 if a[0] > 0.01 else 1 for a in predictions_B]\n",
    "\n",
    "print(\"Test Set A\")\n",
    "print(classification_report(argmax_array(y_test_A), predictions_A_01, target_names = ['Normal (Class 0)','Pneumonia (Class 1)']))\n",
    "print(\"\\nTest Set B\")\n",
    "print(classification_report(argmax_array(y_test_B),predictions_B_01, target_names = ['Normal (Class 0)','Pneumonia (Class 1)']))\n",
    "\n",
    "print(\"Test Set A\")\n",
    "print(confusion_matrix(argmax_array(y_test_A), predictions_A_01))\n",
    "print(\"\\nTest Set B\")\n",
    "print(confusion_matrix(argmax_array(y_test_B), predictions_B_01))\n"
   ]
  }
 ],
 "metadata": {
  "kernelspec": {
   "display_name": "Python 3",
   "language": "python",
   "name": "python3"
  },
  "language_info": {
   "codemirror_mode": {
    "name": "ipython",
    "version": 3
   },
   "file_extension": ".py",
   "mimetype": "text/x-python",
   "name": "python",
   "nbconvert_exporter": "python",
   "pygments_lexer": "ipython3",
   "version": "3.11.3"
  }
 },
 "nbformat": 4,
 "nbformat_minor": 2
}
