{
 "cells": [
  {
   "cell_type": "code",
   "execution_count": null,
   "metadata": {},
   "outputs": [],
   "source": [
    "import numpy as np\n",
    "import matplotlib.pyplot as plt\n",
    "import random\n",
    "\n",
    "import keras\n",
    "from keras.preprocessing.image import ImageDataGenerator\n",
    "from sklearn.metrics import classification_report,confusion_matrix\n",
    "from keras.callbacks import ReduceLROnPlateau\n",
    "\n",
    "import medmnist\n",
    "from medmnist import INFO\n",
    "\n",
    "import sys\n",
    "sys.path.insert(0,\"../\")\n",
    "\n",
    "import dataset_without_pytorch\n",
    "\n",
    "from functions import split_data, get_label_counts, build_basic_model, argmax_array, generate_training_mixup_images\n",
    "from plotting_functions import plot_history\n",
    "import pandas as pd"
   ]
  },
  {
   "cell_type": "code",
   "execution_count": null,
   "metadata": {},
   "outputs": [],
   "source": [
    "data_flag = 'pneumoniamnist'\n",
    "\n",
    "download = True\n",
    "\n",
    "image_size = 128\n",
    "\n",
    "info = INFO[data_flag]\n",
    "\n",
    "DataClass = getattr(dataset_without_pytorch, info['python_class'])"
   ]
  },
  {
   "cell_type": "code",
   "execution_count": null,
   "metadata": {},
   "outputs": [],
   "source": [
    "# load the data\n",
    "train_dataset = DataClass(split='train', download=download, size = image_size)\n",
    "test_dataset = DataClass(split='test', download=download, size = image_size)\n",
    "val_dataset = DataClass(split='val', download=download, size = image_size)"
   ]
  },
  {
   "cell_type": "code",
   "execution_count": null,
   "metadata": {},
   "outputs": [],
   "source": [
    "RANDOM_SEED = 1\n",
    "\n",
    "X_train, y_train, X_val, y_val, X_test_A, y_test_A, X_test_B, y_test_B = split_data(\n",
    "  train_dataset, test_dataset, val_dataset, RANDOM_SEED = RANDOM_SEED, one_hot_encoded = True, num_classes=2, image_size = 128)\n"
   ]
  },
  {
   "cell_type": "code",
   "execution_count": null,
   "metadata": {},
   "outputs": [],
   "source": [
    "# As a sanity check to make sure we have the correct test data, check counts\n",
    "\n",
    "get_label_counts(y_train,y_val,y_test_A,y_test_B,class_names = [\"Normal\",\"Pneumonia\"])"
   ]
  },
  {
   "cell_type": "code",
   "execution_count": null,
   "metadata": {},
   "outputs": [],
   "source": [
    "test_set_A_df = pd.DataFrame({\n",
    "    \"image_index\":[i for i in range(len(y_test_A))],\n",
    "    \"class\":[label[1] for label in y_test_A]}) # 0 if normal, 1 if pneumonia"
   ]
  },
  {
   "cell_type": "code",
   "execution_count": null,
   "metadata": {},
   "outputs": [],
   "source": [
    "MUBA_ITERS = 30\n",
    "\n",
    "muba_df = pd.DataFrame(columns = [\n",
    "                        \"alpha_class_0\",\n",
    "                        \"alpha_class_1\",\n",
    "                        \"image_0\",\n",
    "                        \"image_1\",\n",
    "                        \"mixup_image\",\n",
    "                        \"type\",\n",
    "                        \"label\",\n",
    "        ])\n",
    "\n",
    "for index_0, row_0 in test_set_A_df[test_set_A_df[\"class\"]==0].iterrows(): # For each class 0 image\n",
    "    for index_1, row_1 in test_set_A_df[test_set_A_df[\"class\"]==1].iterrows(): # For each class 1 image\n",
    "        for i in range(MUBA_ITERS):\n",
    "            print(index_0,index_1)\n",
    "            alpha = (1/MUBA_ITERS) * np.random.rand() + ( (i) / MUBA_ITERS) # Create an alpha value inside a bin of width 1/MUBA_ITERS\n",
    "            new_img = alpha * X_test_A[int(row_0[\"image_index\"])] + (1 - alpha) * X_test_A[int(row_1[\"image_index\"])]\n",
    "            label = 0 if alpha > 0.5 else 1 # If alpha is greater than 0.5, there is a higher proportion of a class 0 image.\n",
    "            \n",
    "            row = pd.DataFrame([({ \"alpha_class_0\": alpha, # row 0 is multiplied by lam\n",
    "                        \"alpha_class_1\": 1-alpha,\n",
    "                        \"class_0_index\": index_0,\n",
    "                        \"class_1_index\": index_1,\n",
    "                        \"mixup_image\": new_img,\n",
    "                        \"type\":\"mix\",\n",
    "                        \"label\":label\n",
    "                        })])\n",
    "            muba_df = pd.concat([muba_df, row],axis=0, ignore_index=True)"
   ]
  },
  {
   "cell_type": "code",
   "execution_count": null,
   "metadata": {},
   "outputs": [],
   "source": [
    "muba_df.head(1)"
   ]
  },
  {
   "cell_type": "code",
   "execution_count": null,
   "metadata": {},
   "outputs": [],
   "source": [
    "muba_df.to_pickle(\"./mixup_images.csv\")"
   ]
  }
 ],
 "metadata": {
  "kernelspec": {
   "display_name": "Python 3",
   "language": "python",
   "name": "python3"
  },
  "language_info": {
   "codemirror_mode": {
    "name": "ipython",
    "version": 3
   },
   "file_extension": ".py",
   "mimetype": "text/x-python",
   "name": "python",
   "nbconvert_exporter": "python",
   "pygments_lexer": "ipython3",
   "version": "3.11.3"
  }
 },
 "nbformat": 4,
 "nbformat_minor": 2
}
