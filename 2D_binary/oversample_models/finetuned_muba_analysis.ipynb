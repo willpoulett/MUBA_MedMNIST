{
 "cells": [
  {
   "cell_type": "code",
   "execution_count": 1,
   "metadata": {},
   "outputs": [],
   "source": [
    "import numpy as np\n",
    "import matplotlib.pyplot as plt\n",
    "\n",
    "import keras\n",
    "\n",
    "from sklearn.metrics import classification_report\n",
    "from sklearn.manifold import TSNE\n",
    "\n",
    "import medmnist\n",
    "from medmnist import INFO\n",
    "\n",
    "import sys\n",
    "sys.path.insert(0,\"../../\")\n",
    "\n",
    "import dataset_without_pytorch\n",
    "\n",
    "from functions import split_data, get_label_counts, generate_testing_mixup_images, find_boundary_points\n",
    "from plotting_functions import plot_3_confusion_matricies, plot_calibration, muba_curves\n",
    "import pandas as pd\n",
    "\n",
    "from functions import argmax_array"
   ]
  },
  {
   "cell_type": "code",
   "execution_count": 2,
   "metadata": {},
   "outputs": [],
   "source": [
    "data_flag = 'pneumoniamnist'\n",
    "\n",
    "download = True\n",
    "\n",
    "image_size = 128\n",
    "\n",
    "info = INFO[data_flag]\n",
    "\n",
    "DataClass = getattr(dataset_without_pytorch, info['python_class'])"
   ]
  },
  {
   "cell_type": "code",
   "execution_count": 3,
   "metadata": {},
   "outputs": [
    {
     "name": "stdout",
     "output_type": "stream",
     "text": [
      "Using downloaded and verified file: C:\\Users\\Will Poulett\\.medmnist\\pneumoniamnist_128.npz\n",
      "Using downloaded and verified file: C:\\Users\\Will Poulett\\.medmnist\\pneumoniamnist_128.npz\n",
      "Using downloaded and verified file: C:\\Users\\Will Poulett\\.medmnist\\pneumoniamnist_128.npz\n"
     ]
    }
   ],
   "source": [
    "# load the data\n",
    "train_dataset = DataClass(split='train', download=download, size = image_size)\n",
    "test_dataset = DataClass(split='test', download=download, size = image_size)\n",
    "val_dataset = DataClass(split='val', download=download, size = image_size)"
   ]
  },
  {
   "cell_type": "code",
   "execution_count": 4,
   "metadata": {},
   "outputs": [],
   "source": [
    "RANDOM_SEED = 1\n",
    "\n",
    "X_train, y_train, X_val, y_val, X_test_A, y_test_A, X_test_B, y_test_B = split_data(\n",
    "  train_dataset, test_dataset, val_dataset, RANDOM_SEED = RANDOM_SEED, one_hot_encoded = True, num_classes=2, image_size = 128)\n"
   ]
  },
  {
   "cell_type": "code",
   "execution_count": 5,
   "metadata": {},
   "outputs": [
    {
     "name": "stdout",
     "output_type": "stream",
     "text": [
      "\n",
      "Train\n",
      "{(0, 1): 3494, (1, 0): 1214}  ['Normal', 'Pneumonia']\n",
      "\n",
      "Val\n",
      "{(0, 1): 389, (1, 0): 135}  ['Normal', 'Pneumonia']\n",
      "\n",
      "Test A\n",
      "{(0, 1): 117, (1, 0): 70}  ['Normal', 'Pneumonia']\n",
      "\n",
      "Test B\n",
      "{(0, 1): 273, (1, 0): 164}  ['Normal', 'Pneumonia']\n"
     ]
    }
   ],
   "source": [
    "# As a sanity check to make sure we have the correct test data, check counts\n",
    "\n",
    "get_label_counts(y_train,y_val,y_test_A,y_test_B,class_names = [\"Normal\",\"Pneumonia\"])"
   ]
  },
  {
   "cell_type": "code",
   "execution_count": 6,
   "metadata": {},
   "outputs": [],
   "source": [
    "test_set_A_df = pd.DataFrame({\n",
    "    \"image_index\":[i for i in range(len(y_test_A))],\n",
    "    \"class\":[label[1] for label in y_test_A]}) # 0 if normal, 1 if pneumonia"
   ]
  },
  {
   "cell_type": "code",
   "execution_count": 7,
   "metadata": {},
   "outputs": [],
   "source": [
    "MUBA_ITERS = 20\n",
    "\n",
    "muba_df = generate_testing_mixup_images(test_set_A_df, X_test_A, MUBA_ITERS)"
   ]
  },
  {
   "cell_type": "code",
   "execution_count": 8,
   "metadata": {},
   "outputs": [],
   "source": [
    "# To allow for reproducability, we add our alpha values\n",
    "alpha_values = muba_df[\"alpha_class_0\"]\n",
    "alpha_values.to_csv(\"alpha_values.csv\")"
   ]
  },
  {
   "cell_type": "code",
   "execution_count": 9,
   "metadata": {},
   "outputs": [],
   "source": [
    "model = keras.models.load_model(\"best_model_epoch_26.h5\")\n",
    "activations_model = keras.Model(model.input,model.layers[-2].output)"
   ]
  },
  {
   "cell_type": "code",
   "execution_count": 10,
   "metadata": {},
   "outputs": [
    {
     "name": "stdout",
     "output_type": "stream",
     "text": [
      "6/6 [==============================] - 1s 64ms/step\n",
      "6/6 [==============================] - 0s 58ms/step\n",
      "14/14 [==============================] - 1s 65ms/step\n",
      "14/14 [==============================] - 1s 61ms/step\n",
      "Stacking - this can take some time.\n",
      "5119/5119 [==============================] - 316s 62ms/step\n",
      "5119/5119 [==============================] - 341s 67ms/step\n"
     ]
    }
   ],
   "source": [
    "predictions_A = model.predict(X_test_A)\n",
    "activations_A = activations_model.predict(X_test_A)\n",
    "\n",
    "predictions_B = model.predict(X_test_B)\n",
    "activations_B = activations_model.predict(X_test_B)\n",
    "\n",
    "print(\"Stacking - this can take some time.\")\n",
    "stacked_images = np.stack(muba_df[\"image\"])\n",
    "predictions_mixup = model.predict(stacked_images)\n",
    "activations_mixup = activations_model.predict(stacked_images)"
   ]
  },
  {
   "cell_type": "code",
   "execution_count": 11,
   "metadata": {},
   "outputs": [],
   "source": [
    "predictions_A_ft = [0 if a[0] > 0.2 else 1 for a in predictions_A]\n",
    "predictions_B_ft = [0 if a[0] > 0.2 else 1 for a in predictions_B]\n",
    "predictions_mixup_ft = [0 if a[0] > 0.2 else 1 for a in predictions_mixup]"
   ]
  },
  {
   "cell_type": "code",
   "execution_count": 12,
   "metadata": {},
   "outputs": [
    {
     "name": "stdout",
     "output_type": "stream",
     "text": [
      "Test Set A\n",
      "                     precision    recall  f1-score   support\n",
      "\n",
      "   Normal (Class 0)       0.91      0.96      0.93        70\n",
      "Pneumonia (Class 1)       0.97      0.94      0.96       117\n",
      "\n",
      "           accuracy                           0.95       187\n",
      "          macro avg       0.94      0.95      0.94       187\n",
      "       weighted avg       0.95      0.95      0.95       187\n",
      "\n",
      "\n",
      "Test Set B\n",
      "                     precision    recall  f1-score   support\n",
      "\n",
      "   Normal (Class 0)       0.94      0.92      0.93       164\n",
      "Pneumonia (Class 1)       0.95      0.97      0.96       273\n",
      "\n",
      "           accuracy                           0.95       437\n",
      "          macro avg       0.95      0.94      0.95       437\n",
      "       weighted avg       0.95      0.95      0.95       437\n",
      "\n"
     ]
    }
   ],
   "source": [
    "print(\"Test Set A\")\n",
    "print(classification_report(argmax_array(y_test_A), predictions_A_ft, target_names = ['Normal (Class 0)','Pneumonia (Class 1)']))\n",
    "print(\"\\nTest Set B\")\n",
    "print(classification_report(argmax_array(y_test_B),predictions_B_ft, target_names = ['Normal (Class 0)','Pneumonia (Class 1)']))"
   ]
  },
  {
   "cell_type": "code",
   "execution_count": 14,
   "metadata": {},
   "outputs": [
    {
     "name": "stdout",
     "output_type": "stream",
     "text": [
      "Test Set A\n",
      "                     precision    recall  f1-score   support\n",
      "\n",
      "   Normal (Class 0)       0.97      0.87      0.92        70\n",
      "Pneumonia (Class 1)       0.93      0.98      0.95       117\n",
      "\n",
      "           accuracy                           0.94       187\n",
      "          macro avg       0.95      0.93      0.94       187\n",
      "       weighted avg       0.94      0.94      0.94       187\n",
      "\n",
      "\n",
      "Test Set B\n",
      "                     precision    recall  f1-score   support\n",
      "\n",
      "   Normal (Class 0)       0.97      0.85      0.91       164\n",
      "Pneumonia (Class 1)       0.92      0.99      0.95       273\n",
      "\n",
      "           accuracy                           0.94       437\n",
      "          macro avg       0.95      0.92      0.93       437\n",
      "       weighted avg       0.94      0.94      0.93       437\n",
      "\n"
     ]
    }
   ],
   "source": [
    "print(\"Test Set A\")\n",
    "print(classification_report(argmax_array(y_test_A), argmax_array(predictions_A), target_names = ['Normal (Class 0)','Pneumonia (Class 1)']))\n",
    "print(\"\\nTest Set B\")\n",
    "print(classification_report(argmax_array(y_test_B),argmax_array(predictions_B), target_names = ['Normal (Class 0)','Pneumonia (Class 1)']))"
   ]
  },
  {
   "cell_type": "code",
   "execution_count": 13,
   "metadata": {},
   "outputs": [],
   "source": [
    "muba_df[\"predictions_0\"] = [p[0] for p in predictions_mixup]\n",
    "muba_df[\"predictions_1\"] = [p[1] for p in predictions_mixup]\n",
    "muba_df[\"argmax_pred\"] = [np.argmax(p) for p in predictions_mixup]\n",
    "muba_df[\"argmax_pred_ft\"] = predictions_mixup_ft\n",
    "muba_df[\"activations\"] = [a for a in activations_mixup]"
   ]
  },
  {
   "cell_type": "code",
   "execution_count": 15,
   "metadata": {},
   "outputs": [
    {
     "data": {
      "text/html": [
       "<div>\n",
       "<style scoped>\n",
       "    .dataframe tbody tr th:only-of-type {\n",
       "        vertical-align: middle;\n",
       "    }\n",
       "\n",
       "    .dataframe tbody tr th {\n",
       "        vertical-align: top;\n",
       "    }\n",
       "\n",
       "    .dataframe thead th {\n",
       "        text-align: right;\n",
       "    }\n",
       "</style>\n",
       "<table border=\"1\" class=\"dataframe\">\n",
       "  <thead>\n",
       "    <tr style=\"text-align: right;\">\n",
       "      <th></th>\n",
       "      <th>alpha_class_0</th>\n",
       "      <th>alpha_class_1</th>\n",
       "      <th>class_0_index</th>\n",
       "      <th>class_1_index</th>\n",
       "      <th>image</th>\n",
       "      <th>type</th>\n",
       "      <th>label</th>\n",
       "      <th>predictions_0</th>\n",
       "      <th>predictions_1</th>\n",
       "      <th>argmax_pred</th>\n",
       "      <th>argmax_pred_ft</th>\n",
       "      <th>activations</th>\n",
       "    </tr>\n",
       "  </thead>\n",
       "  <tbody>\n",
       "    <tr>\n",
       "      <th>0</th>\n",
       "      <td>0.002961</td>\n",
       "      <td>0.997039</td>\n",
       "      <td>0</td>\n",
       "      <td>1</td>\n",
       "      <td>[[[111.94670559345819], [106.96150959527536], ...</td>\n",
       "      <td>mix</td>\n",
       "      <td>1</td>\n",
       "      <td>8.390959e-16</td>\n",
       "      <td>1.0</td>\n",
       "      <td>1</td>\n",
       "      <td>1</td>\n",
       "      <td>[0.0, 0.0, 6.589875, 0.0, 0.0, 0.0, 15.39139, ...</td>\n",
       "    </tr>\n",
       "    <tr>\n",
       "      <th>1</th>\n",
       "      <td>0.091053</td>\n",
       "      <td>0.908947</td>\n",
       "      <td>0</td>\n",
       "      <td>1</td>\n",
       "      <td>[[[110.36103767840898], [105.81630498996203], ...</td>\n",
       "      <td>mix</td>\n",
       "      <td>1</td>\n",
       "      <td>2.033469e-16</td>\n",
       "      <td>1.0</td>\n",
       "      <td>1</td>\n",
       "      <td>1</td>\n",
       "      <td>[0.0, 0.0, 9.433466, 0.0, 0.0, 0.0, 18.140938,...</td>\n",
       "    </tr>\n",
       "    <tr>\n",
       "      <th>2</th>\n",
       "      <td>0.137884</td>\n",
       "      <td>0.862116</td>\n",
       "      <td>0</td>\n",
       "      <td>1</td>\n",
       "      <td>[[[109.51809267804056], [105.20751137858484], ...</td>\n",
       "      <td>mix</td>\n",
       "      <td>1</td>\n",
       "      <td>4.390043e-16</td>\n",
       "      <td>1.0</td>\n",
       "      <td>1</td>\n",
       "      <td>1</td>\n",
       "      <td>[0.0, 0.0, 9.611535, 0.0, 0.0, 0.0, 17.628498,...</td>\n",
       "    </tr>\n",
       "    <tr>\n",
       "      <th>3</th>\n",
       "      <td>0.170673</td>\n",
       "      <td>0.829327</td>\n",
       "      <td>0</td>\n",
       "      <td>1</td>\n",
       "      <td>[[[108.92787968922836], [104.78124644222049], ...</td>\n",
       "      <td>mix</td>\n",
       "      <td>1</td>\n",
       "      <td>1.504176e-15</td>\n",
       "      <td>1.0</td>\n",
       "      <td>1</td>\n",
       "      <td>1</td>\n",
       "      <td>[0.0, 0.0, 9.372245, 0.0, 0.0, 0.0, 16.603174,...</td>\n",
       "    </tr>\n",
       "    <tr>\n",
       "      <th>4</th>\n",
       "      <td>0.204346</td>\n",
       "      <td>0.795654</td>\n",
       "      <td>0</td>\n",
       "      <td>1</td>\n",
       "      <td>[[[108.32176477577374], [104.34349678250325], ...</td>\n",
       "      <td>mix</td>\n",
       "      <td>1</td>\n",
       "      <td>1.113409e-14</td>\n",
       "      <td>1.0</td>\n",
       "      <td>1</td>\n",
       "      <td>1</td>\n",
       "      <td>[0.0, 0.0, 8.649938, 0.0, 0.0, 0.0, 15.137519,...</td>\n",
       "    </tr>\n",
       "  </tbody>\n",
       "</table>\n",
       "</div>"
      ],
      "text/plain": [
       "   alpha_class_0  alpha_class_1  class_0_index  class_1_index  \\\n",
       "0       0.002961       0.997039              0              1   \n",
       "1       0.091053       0.908947              0              1   \n",
       "2       0.137884       0.862116              0              1   \n",
       "3       0.170673       0.829327              0              1   \n",
       "4       0.204346       0.795654              0              1   \n",
       "\n",
       "                                               image type  label  \\\n",
       "0  [[[111.94670559345819], [106.96150959527536], ...  mix      1   \n",
       "1  [[[110.36103767840898], [105.81630498996203], ...  mix      1   \n",
       "2  [[[109.51809267804056], [105.20751137858484], ...  mix      1   \n",
       "3  [[[108.92787968922836], [104.78124644222049], ...  mix      1   \n",
       "4  [[[108.32176477577374], [104.34349678250325], ...  mix      1   \n",
       "\n",
       "   predictions_0  predictions_1  argmax_pred  argmax_pred_ft  \\\n",
       "0   8.390959e-16            1.0            1               1   \n",
       "1   2.033469e-16            1.0            1               1   \n",
       "2   4.390043e-16            1.0            1               1   \n",
       "3   1.504176e-15            1.0            1               1   \n",
       "4   1.113409e-14            1.0            1               1   \n",
       "\n",
       "                                         activations  \n",
       "0  [0.0, 0.0, 6.589875, 0.0, 0.0, 0.0, 15.39139, ...  \n",
       "1  [0.0, 0.0, 9.433466, 0.0, 0.0, 0.0, 18.140938,...  \n",
       "2  [0.0, 0.0, 9.611535, 0.0, 0.0, 0.0, 17.628498,...  \n",
       "3  [0.0, 0.0, 9.372245, 0.0, 0.0, 0.0, 16.603174,...  \n",
       "4  [0.0, 0.0, 8.649938, 0.0, 0.0, 0.0, 15.137519,...  "
      ]
     },
     "execution_count": 15,
     "metadata": {},
     "output_type": "execute_result"
    }
   ],
   "source": [
    "muba_df.head()"
   ]
  },
  {
   "cell_type": "code",
   "execution_count": 16,
   "metadata": {},
   "outputs": [],
   "source": [
    "incorrect_ft = muba_df[muba_df[\"argmax_pred_ft\"]!=muba_df[\"label\"]]\n",
    "incorrect = muba_df[muba_df[\"argmax_pred\"]!=muba_df[\"label\"]]"
   ]
  },
  {
   "cell_type": "code",
   "execution_count": 17,
   "metadata": {},
   "outputs": [
    {
     "data": {
      "text/plain": [
       "(array([ 460.,  427.,  370.,  323.,  291.,  261.,  276.,  361.,  563.,\n",
       "         933., 6572., 5557., 4384., 3320., 2423., 1791., 1367.,  960.,\n",
       "         766.,  583.]),\n",
       " array([0.  , 0.05, 0.1 , 0.15, 0.2 , 0.25, 0.3 , 0.35, 0.4 , 0.45, 0.5 ,\n",
       "        0.55, 0.6 , 0.65, 0.7 , 0.75, 0.8 , 0.85, 0.9 , 0.95, 1.  ]),\n",
       " <BarContainer object of 20 artists>)"
      ]
     },
     "execution_count": 17,
     "metadata": {},
     "output_type": "execute_result"
    },
    {
     "data": {
      "image/png": "[encoded data removed]",
      "text/plain": [
       "<Figure size 640x480 with 1 Axes>"
      ]
     },
     "metadata": {},
     "output_type": "display_data"
    }
   ],
   "source": [
    "plt.hist(incorrect_ft[\"alpha_class_0\"],[i/20 for i in range(21)])"
   ]
  },
  {
   "cell_type": "code",
   "execution_count": 18,
   "metadata": {},
   "outputs": [
    {
     "data": {
      "text/plain": [
       "(array([ 138.,  102.,   65.,   39.,   36.,   39.,   56.,   99.,  173.,\n",
       "         372., 7475., 6890., 6084., 5161., 4304., 3467., 2773., 2280.,\n",
       "        1727., 1201.]),\n",
       " array([0.  , 0.05, 0.1 , 0.15, 0.2 , 0.25, 0.3 , 0.35, 0.4 , 0.45, 0.5 ,\n",
       "        0.55, 0.6 , 0.65, 0.7 , 0.75, 0.8 , 0.85, 0.9 , 0.95, 1.  ]),\n",
       " <BarContainer object of 20 artists>)"
      ]
     },
     "execution_count": 18,
     "metadata": {},
     "output_type": "execute_result"
    },
    {
     "data": {
      "image/png": "[encoded data removed]",
      "text/plain": [
       "<Figure size 640x480 with 1 Axes>"
      ]
     },
     "metadata": {},
     "output_type": "display_data"
    }
   ],
   "source": [
    "plt.hist(incorrect[\"alpha_class_0\"],[i/20 for i in range(21)])"
   ]
  }
 ],
 "metadata": {
  "kernelspec": {
   "display_name": "Python 3",
   "language": "python",
   "name": "python3"
  },
  "language_info": {
   "codemirror_mode": {
    "name": "ipython",
    "version": 3
   },
   "file_extension": ".py",
   "mimetype": "text/x-python",
   "name": "python",
   "nbconvert_exporter": "python",
   "pygments_lexer": "ipython3",
   "version": "3.11.3"
  }
 },
 "nbformat": 4,
 "nbformat_minor": 2
}
